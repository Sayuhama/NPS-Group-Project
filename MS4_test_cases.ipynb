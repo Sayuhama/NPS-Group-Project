{
  "nbformat": 4,
  "nbformat_minor": 0,
  "metadata": {
    "colab": {
      "provenance": [],
      "include_colab_link": true
    },
    "kernelspec": {
      "name": "python3",
      "display_name": "Python 3"
    },
    "language_info": {
      "name": "python"
    }
  },
  "cells": [
    {
      "cell_type": "markdown",
      "metadata": {
        "id": "view-in-github",
        "colab_type": "text"
      },
      "source": [
        "<a href=\"https://colab.research.google.com/github/Sayuhama/NPS-Group-Project/blob/main/MS4_test_cases.ipynb\" target=\"_parent\"><img src=\"https://colab.research.google.com/assets/colab-badge.svg\" alt=\"Open In Colab\"/></a>"
      ]
    },
    {
      "cell_type": "code",
      "source": [
        "import heapq\n",
        "import math\n",
        "\n",
        "class Node:\n",
        "    def __init__(self, name, x_coord, y_coord):\n",
        "        self.name = name\n",
        "        self.x_coord = x_coord\n",
        "        self.y_coord = y_coord\n",
        "\n",
        "def astar_search(graph, start, goal):\n",
        "    open_list = [(0, start)]\n",
        "    came_from = {}\n",
        "    g_score = {node: float('inf') for node in graph}\n",
        "    g_score[start] = 0\n",
        "    f_score = {node: float('inf') for node in graph}\n",
        "    f_score[start] = heuristic(start, goal)\n",
        "\n",
        "    while open_list:\n",
        "        current = heapq.heappop(open_list)[1]\n",
        "\n",
        "        if current == goal:\n",
        "            path = reconstruct_path(came_from, current)\n",
        "            return path\n",
        "\n",
        "        for neighbor in graph[current]:\n",
        "            tentative_g_score = g_score[current] + graph[current][neighbor]\n",
        "            if tentative_g_score < g_score[neighbor]:\n",
        "                came_from[neighbor] = current\n",
        "                g_score[neighbor] = tentative_g_score\n",
        "                f_score[neighbor] = tentative_g_score + heuristic(neighbor, goal)\n",
        "                heapq.heappush(open_list, (f_score[neighbor], neighbor))\n",
        "\n",
        "    return None\n",
        "\n",
        "# Define the nodes in the graph.\n",
        "nodes = {\n",
        "    \"CLB Bus Stop\": Node(\"CLB Bus Stop\", 103.7722692, 1.2963281),\n",
        "    \"CLB Lift\": Node(\"CLB Lift\", 103.773159, 1.2961598),\n",
        "    \"AS8 Lift\": Node(\"AS8 Lift\", 103.7721415, 1.2962543),\n",
        "    \"AS8 Escalator\": Node(\"AS8 Escalator\", 103.7726038, 1.2960733),\n",
        "    \"AS8-0401\": Node(\"AS8-0401\", 103.7720789, 1.296135387),\n",
        "    \"AS8-0402\": Node(\"AS8-0402\", 103.7721183, 1.296245986),\n",
        "    \"AS8-0405\": Node(\"AS8-0405\", 103.7723264, 1.295925324),\n",
        "    \"AS8-0647\": Node(\"AS8-0647\", 103.7723207, 1.296081905),\n",
        "    \"AS8-0760\": Node(\"AS8-0760\", 103.7735778, 1.296967617)\n",
        "}\n",
        "\n",
        "# Sample graph representation\n",
        "graph = {\n",
        "    \"CLB Bus Stop\": {\"CLB Lift\": 0.001058, \"AS8 Lift\": 0.0002015},\n",
        "    \"CLB Lift\": {\"CLB Bus Stop\": 0.001058, \"AS8 Lift\": 0.001112, \"AS8-0401\": 0.0012126, \"AS8-0402\": 0.001235, \"AS8-0405\": 0.001175},\n",
        "    \"AS8 Lift\": {\"CLB Bus Stop\": 0.0002015, \"CLB Lift\": 0.001112, \"AS8-0401\": 0.00019506, \"AS8-0402\": 0.0002174, \"AS8-0405\": 0.0005274, \"AS8-0647\": 0.00043706, \"AS8-0760\": 0.00246},\n",
        "    \"AS8 Escalator\": {\"CLB Lift\": 0.0012126, \"AS8-0401\": 0.00019506, \"AS8-0402\": 0.00015004, \"AS8-0405\":0.00045765, \"AS8-0647\": 0.0002953, \"AS8-0760\": 0.002331},\n",
        "    \"AS8-0401\": {\"CLB Lift\": 0.001235, \"AS8 Lift\": 0.0002174,\"AS8 Escalator\": 0.00015004, \"AS8-0405\": 0.0005288, \"AS8-0647\": 0.00036645, \"AS8-0760\": 0.002181},\n",
        "    \"AS8-0402\": {\"CLB Lift\": 0.001175, \"AS8 Lift\": 0.0005274, \"AS8 Escalator\": 0.00045765, \"AS8-0401\": 0.0005288, \"AS8-0647\": 0.00016236, \"AS8-0760\": 0.001048},\n",
        "    \"AS8-0405\": {\"CLB Lift\": 0.001058, \"AS8 Lift\": 0.0002015, \"AS8 Escalator\": 0.00043706, \"AS8-0401\": 0.0002953, \"AS8-0402\": 0.00036645, \"AS8-0760\": 0.002143},\n",
        "    \"AS8-0647\": {\"CLB Lift\": 0.00246, \"AS8 Lift\": 0.002331, \"AS8 Escalator\": 0.002181, \"AS8-0401\": 0.001048, \"AS8-0402\": 0.002143},\n",
        "    \"AS8-0760\": {\"AS8 Lift\": 0.00246, \"AS8-0401\": 0.002331, \"AS8-0402\": 0.002181, \"AS8-0405\": 0.001048, \"AS8-0647\": 0.002143}\n",
        "}\n",
        "\n",
        "def heuristic(node, goal):\n",
        "    # Calculate the Euclidean distance between two nodes\n",
        "    node_coord = (nodes[node].x_coord, nodes[node].y_coord)\n",
        "    goal_coord = (nodes[goal].x_coord, nodes[goal].y_coord)\n",
        "    x1, y1 = node_coord\n",
        "    x2, y2 = goal_coord\n",
        "    return math.sqrt((x2 - x1)**2 + (y2 - y1)**2)\n",
        "\n",
        "def reconstruct_path(came_from, current):\n",
        "    path = [current]\n",
        "    while current in came_from:\n",
        "        current = came_from[current]\n",
        "        path.append(current)\n",
        "    return path[::-1]"
      ],
      "metadata": {
        "colab": {
          "base_uri": "https://localhost:8080/"
        },
        "id": "3-bBzecokCC_",
        "outputId": "45a782c9-9e7d-4b32-dadc-b110b351d1e0"
      },
      "execution_count": null,
      "outputs": [
        {
          "output_type": "stream",
          "name": "stdout",
          "text": [
            "Path found: ['CLB Bus Stop', 'AS8 Lift', 'AS8-0402', 'AS8-0760']\n"
          ]
        }
      ]
    },
    {
      "cell_type": "markdown",
      "source": [
        "**Test Cases**"
      ],
      "metadata": {
        "id": "Jb9x3zUzb4IE"
      }
    },
    {
      "cell_type": "code",
      "source": [
        "start = \"AS8-0401\"\n",
        "goal = \"CLB Bus Stop\"\n",
        "\n",
        "path = astar_search(graph, start, goal)\n",
        "if path:\n",
        "    print(\"Path found:\", path)\n",
        "else:\n",
        "    print(\"No path found.\")"
      ],
      "metadata": {
        "colab": {
          "base_uri": "https://localhost:8080/"
        },
        "id": "HNNZkoJTlcLR",
        "outputId": "9c42d829-0851-4705-ce5d-f4f016bf8cd3"
      },
      "execution_count": null,
      "outputs": [
        {
          "output_type": "stream",
          "name": "stdout",
          "text": [
            "Path found: ['AS8-0401', 'AS8 Lift', 'CLB Bus Stop']\n"
          ]
        }
      ]
    },
    {
      "cell_type": "markdown",
      "source": [
        "can ignore this: just a dataset of the actual coordinates of the FASS venues from NUSMods"
      ],
      "metadata": {
        "id": "FmHo8quPTZEc"
      }
    },
    {
      "cell_type": "code",
      "source": [
        "!pip install requests\n",
        "import requests\n",
        "import json\n",
        "\n",
        "# URLs to the JSON files on GitHub\n",
        "json_urls = [\n",
        "    'https://raw.githubusercontent.com/nusmodifications/nusmods/master/website/src/data/venues.json',\n",
        "    # Add more URLs as needed\n",
        "]\n",
        "\n",
        "# Create an empty list to store the data from the JSON files\n",
        "data = []\n",
        "\n",
        "# Loop through the URLs and download the JSON files\n",
        "for url in json_urls:\n",
        "    response = requests.get(url)\n",
        "    json_data = response.json()\n",
        "\n",
        "    # Add the data from the JSON file to the list\n",
        "    data.extend(json_data)\n",
        "\n",
        "# Print the imported data\n",
        "print(data)"
      ],
      "metadata": {
        "colab": {
          "base_uri": "https://localhost:8080/"
        },
        "id": "vEQVIUlWrxsU",
        "outputId": "06228a1b-9271-45c8-ece1-efa36386f128"
      },
      "execution_count": null,
      "outputs": [
        {
          "output_type": "stream",
          "name": "stdout",
          "text": [
            "Requirement already satisfied: requests in /usr/local/lib/python3.10/dist-packages (2.31.0)\n",
            "Requirement already satisfied: charset-normalizer<4,>=2 in /usr/local/lib/python3.10/dist-packages (from requests) (3.3.2)\n",
            "Requirement already satisfied: idna<4,>=2.5 in /usr/local/lib/python3.10/dist-packages (from requests) (3.6)\n",
            "Requirement already satisfied: urllib3<3,>=1.21.1 in /usr/local/lib/python3.10/dist-packages (from requests) (2.0.7)\n",
            "Requirement already satisfied: certifi>=2017.4.17 in /usr/local/lib/python3.10/dist-packages (from requests) (2024.2.2)\n",
            "['LT17', 'LT16', 'BIZ2-0111', 'BIZ2-0301', 'BIZ2-0404', 'BIZ2-0509', 'BIZ1-0301', 'BIZ2-0510', 'BIZ2-0202', 'BIZ1-0205', 'BIZ1-0304', 'BIZ1-0201', 'BIZ1-0202', 'BIZ2-0201', 'BIZ1-0206', 'BIZ2-B104', 'BIZ1-0204', 'BIZ1-0303', 'BIZ2-0229', 'LT10', 'AS7-0214', 'AS8-0402', 'AS7-0102', 'S2-0414', 'S2-0415', 'S1A-0217', 'S16-0437', 'BIZ1-0302', 'BIZ1-0307', 'BIZ2-0420', 'BIZ2-0228', 'BIZ2-HSSAU', 'BIZ1-0203', 'BIZ1-0305', 'LT3', 'EA-06-04', 'LT1', 'EA-06-02', 'EA-02-11', 'LT5', 'EA-06-07', 'EA-06-03', 'E1-06-01', 'E4A-06-03', 'E3-06-04', 'LT4', 'E3-06-03', 'BIZ2-0303', 'BIZ2-0302', 'COM1-0212', 'COM1-0204', 'COM1-0203', 'COM1-0201', 'COM1-0209', 'COM1-0216', 'COM1-0207', 'COM1-0217', 'i3-0344', 'AS8-0646', 'E1-06-04', 'LT7', 'E1-06-06', 'E1-06-09', 'E1-06-03', 'E1-06-05', 'E4-04-03', 'LT2', 'LT6', 'E1-06-08', 'E3-06-09', 'E4-04-04', 'E1-06-07', 'E2-03-02', 'E2-03-32', 'E2-03-03', 'E3-06-01', 'E3-06-08', 'COM1-0113', 'COM1-0114', 'AS3-0303', 'AS5-0309', 'AS7-0106', 'AS1-0301', 'AS1-0208', 'AS4-0206', 'AS2-0413', 'AS5-0205', 'AS3-0307', 'AS4-0604', 'AS5-0202', 'AS8-0401', 'AS4-0119', 'AS1-0304', 'AS7-0101', 'AS4-0603', 'AS7-0119', 'AS3-0305', 'AS1-0303', 'AS4-0110', 'LT28', 'S16-0307', 'S5-0224', 'S16-0430', 'LT32', 'LT27', 'LT31', 'E5-03-19', 'LT34', 'LT26', 'S5-0223', 'LT21', 'LT33', 'S5-0410', 'S14-0620', 'LT20', 'LT29', 'S14-0619', 'S8-0314', 'S13-M-09', 'S16-0436', 'S16-0435', 'E3-06-07', 'E5-03-22', 'E5-03-21', 'E5-02-32', 'E5-03-20', 'EW2-0402', 'LT7A', 'E5-03-23', 'E1-06-02', 'E3-06-06', 'MD1-08-01E', 'S13-M-08', 'COM1-B108', 'COM1-0120', 'COM1-B111', 'i3-0336', 'i3-0338', 'COM1-B110', 'AS6-020607', 'AS6-0208', 'AS6-0209', 'AS6-0210', 'AS6-0211', 'COM1-0208', 'AS6-0421', 'COM1-B109', 'COM2-0108', 'COM1-0218', 'COM1-B112', 'LT15', 'COM1-0210', 'COM1-B103', 'COM1-B113', 'COM1-B102', 'AS6-0426', 'COM1-0206', 'AS3-0207', 'S16-0598', 'LT18', 'S17-0404', 'BIZ2-0117', 'HSS-03-17', 'E3-06-11', 'E3-06-10', 'E3-06-05', 'LT9', 'AS4-0602', 'AS3-0208', 'AS4-0109', 'AS3-0209', 'AS3-0302', 'AS1-0209', 'LT11', 'AS2-0311', 'AS1-0204', 'AS2-0509', 'AS4-0118', 'LT8', 'AS1-0203', 'AS1-0302', 'AS4-0117', 'AS8-0405', 'AS3-0214', 'LT12', 'AS4-0116', 'AS2-0510', 'LT14', 'AS2-0312', 'AS6-0214', 'AS1-0213', 'E3-06-12', 'E3-06-13', 'E3-06-15', 'E3-06-14', 'E3-06-02', 'EA-06-05', 'E1-06-10', 'E2A-02-02', 'E2A-03-01', 'E2A-03-02', 'E2A-04-02', 'E2A-04-03', 'E1-06-12', 'E1-06-11', 'E1-06-15', 'E1-06-13', 'AS3-0304', 'AS5-0203', 'AS3-0308', 'AS3-0306', 'AS3-0215', 'AS3-0212', 'AS3-0309', 'BIZ2-0112', 'E1-06-16', 'E1-06-14', 'S16-0440', 'S16-0304', 'S16-0309', 'BIZ2-0114', 'BIZ2-0115', 'EA-06-06', 'E4-02-01', 'WS2-0530', 'AS3-0316', 'AS6-0338', 'AS2-0203', 'AS2-0313', 'AS2-0204', 'E-LAB', 'AS2-0302', 'AS2-0316', 'S11-0301', 'S12-0401', 'S16-0431', 'S17-0611', 'AS4-B107', 'AS3-0523', 'S17-0512', 'S12-0402', 'AS1-0210', 'LT13', 'AS4-0601', 'AS1-0207', 'BIZ2-0118', 'BIZ2-0224', 'AS1-0548', 'AS3-0101', 'CELS-01-08', 'CELS-01-06', 'BIZ2-0227', 'AS1-0524', 'E1A-05-19', 'i3-0337', 'AS3-0213', 'AS4-0114', 'AS4-0115', 'AS4-0335', 'MD4-02-03E', 'MD1-07-01A', 'MD7-02-03', 'S17-0302', 'S17-0304', 'S17-0406', 'S17-0405', 'S16-05102', 'S16-05101', 'S16-06118', 'S17-0511', 'E3A-0504', 'AS8-0647', 'AS6-0333', 'S11-0204', 'S11-0302', 'S11-0401', 'S12-0403', 'AS6-0204', 'AS7-0201', 'AS4-0208', 'MD1-06-01A', 'MD1-05-01A', 'S4A-0308', 'AS1-0212', 'AS2-0201', 'MD1-09-01B', 'MD1-08-03E', 'MD1-09-01A', 'MD1-09-03F', 'AS4-B110', 'AS4-B109', 'I3-AUD', 'AS1-0211', 'AS4-0318', 'AS5-0204', 'BIZ2-0116', 'BIZ2-0226', 'BIZ2-0401B', 'C4-02-01', 'CELS-04-01', 'E2-03-06', 'E2-03-08', 'E2-03-09', 'E2A-02-01', 'E3-03-01', 'E3-05-21', 'E3A-05-03', 'E3A-05-07', 'E4-03-07', 'E4A-04-08', 'E4A-06-07', 'E5-03-24', 'EW2-03-14', 'EW2-04-02', 'I3-0336', 'I3-0337', 'I3-0338', 'I3-0339', 'I3-0344', 'MD1-03-01B', 'MD1-03-01C', 'MD1-06-03M', 'MD1-08-01B', 'MD1-0801AB', 'MD1-0903EF', 'MD10-01-01', 'MD11-01-03', 'RC2-G-02', 'S13-0313', 'S14-0503', 'WS2-01-30', 'UT-AUD3', 'SR_LT19', 'ENG-AUD', 'LAW_LT', 'SDE-ER4', 'LT19', 'COM1-VCRM', 'LAW_AUD', 'LAW_SR3', 'LAW_SR5-1', 'LAW_ESR', 'NAK-AUD', 'TC-SR4', 'TP-SR9', 'ERC-GLR', 'CELC-TR7', 'UTSRC-LT51', 'UTSRC-SR7', 'Y-PgRm2', 'Y-CR3', 'BIZ2-0413C', 'RMI-SR1', 'HSSMLCR', 'RC4-SR6', 'SDE-SR15', 'UTSRC-SR2', 'SDE_ER4-5', 'SDE-ES2', 'SDE-ER5', 'S11-0401A', 'S16-0306', 'UTSRC-LT52', 'BIZ1-CMRI', 'CAPT-SR6', 'USP-SR1', 'USP-SR2', 'RVR_MPR1', 'USP-MC', 'YSTCM-SR8', 'Y-CR18', 'Y-CR19', 'Y-CR20', 'Y-CR21', 'Y-CR22', 'Y-CR23', 'Y-AChemLab', 'Y-BioLab', 'Y-CR15', 'Y-CR16', 'Y-CR17', 'Y-CompLab', 'Y-GLRm1', 'Y-GLRm2', 'Y-OChemLab', 'Y-PgRm1', 'Y-PhysLab', 'Y-CR11', 'Y-CR12', 'Y-CR13', 'Y-CR14', 'Y-CR9', 'Y-KChanrai', 'Y-TCTLT', 'Y-WriteCtr', 'Y-CR1', 'Y-CR2', 'Y-CR4', 'Y-CR5', 'Y-CR6', 'Y-CR7', 'Y-CR8', 'Y-LT1', 'Y-ArtsStud', 'Y-BlackBox', 'Y-DanceStu', 'Y-PerfHall', 'Y-PracRm6', 'Y-Studio3', 'Y-Studio4', 'Y-Studio5', 'UT-AUD1', 'UT-AUD2', 'UTSRC-GLR', 'USP-MML', 'EH-SR1', 'CEREBRO', 'TP-GLR', 'TP-SR1', 'TP-SR3', 'TP-SR4', 'TP-SR5', 'TP-SR6', 'TP-SR7', 'TP-SR8', 'UTSRC-SR1', 'UTSRC-SR3', 'UTSRC-SR4', 'UTSRC-SR5', 'UTSRC-SR6', 'UTSRC-SR9', 'UTSRC-SR8', 'ERC-ALR', 'ERC-SR4', 'ERC-SR9CAM', 'UTSRC-LT50', 'UTSRC-LT53', 'ERC-SR8', 'ERC-SR10', 'YI-PAR-TYO', 'EA-04-07', 'EA-04-06', 'EA-04-04', 'E4-04-02', 'AS3-0610', 'AS3-0611', 'CELC-SR1B', 'AS1-0201', 'EW1-01-01', 'EW1-03-02', 'MD9-01-02', 'MD10-02-01', 'E1-02-03', 'E1-03-01', 'E3A-05-04', 'E4-07-08', 'MD1-05-03K', 'MD1-08-01A', 'MD1-10-01A', 'BIZ2-0422', 'AS4-0519', 'S16-0302', 'RVR-SRM01', 'AS6-0212', 'MD4_LAB9', 'CAPT-SR5', 'CAPT-SR4', 'CAPT-SR3', 'CAPT-SR1-2', 'TC-SR3', 'RVR-SRM03', 'YSTCM-ER3', 'YSTCM-ER2', 'TC-SR5', 'TC-SR6', 'MD7_LAB8', 'ERC-SR5', 'AS2-ELAB', 'CELC-SR1A', 'E3-0605-06', 'E3-0603-04', 'SPSWETLAB', 'BIZ2-0413B', 'BIZ2-0413A', 'TH-SR1', 'PGPH-FR4', 'S12-0402A', 'S12-0402B', 'S12-0402C', 'S12-0402D', 'S1A-03LAB1', 'S1A-03LAB2', 'S1A-04LAB3', 'S2-03LAB7', 'S16-03-0506', 'EA-04-21', 'UTSRC-PR1', 'USP-TR2', 'RVR-SRM04', 'SDE2-ES1', 'WT-Lab', 'KEVII-MR2', 'SDE4-EXR1-2', 'SDE2-MEZZ', 'YSTCM-SR4', 'S5-01GEN', 'E2-0306PC3', 'AS1-0205', 'S5-01PHYS', 'AS3-0620', 'RH-CONF-RM', 'GBT-Lab', 'LAW_SR4-1', 'SDE4-EXR-2', 'SDE2-ES2', 'RC4-SR3', 'RC4-SR1-2', 'RC4-SR4', 'RC4-SR5', 'LAW_CR3-4', 'LAW_CR4-2', 'SDE4-GISL1', 'SDE-EXR-2', 'USP-SR3', 'E4-02-06', 'RVR-SRM02', 'EW1-02-03', 'AS6-0215B', 'SH-SR1', 'S6-04-08', 'AS3-0312', 'ERC-SR11', 'S11-0302A', 'USP-TR1', 'RVR-MPR01', 'RVR-MPR02', 'YSTCM-MLAB', 'E2-0309PC6', 'CFG_CARSPA', 'AS3-0314', 'YSTCM-SR3', 'AS7-0201A', 'AS4-0513', 'E5-04-1617', 'LAW_CR3-5', 'LAW_SR5-4', 'Frontier', 'S8-0402', 'TP-SR2', 'LAW_CR2-1', 'LAW_CR2-2', 'BIZ1-0504', 'UT22-07-02', 'Y-ELMCL', 'CQT/SR0315', 'E-Hybrid_B', 'HSS-317', 'Interaction', 'SDE2-ER1', 'SDE4-GIS1-2', 'SDE1-SR5-6', 'SDE4-EXR-1', 'UTSRC-DS', 'YSTCM-RS', 'SDE2_ER4-5', 'SDE1-CL2', 'SDE1-CL3', 'MD3-03-01A', 'E1-06-0102', 'E1-06-0304', 'MD6-03-01E', 'COM3-01-20', 'COM3-01-21', 'COM3-01-23', 'COM3-01-25', 'COM3-MPH', 'AS8-0760', 'Ambition_II', 'SDE3-BARM', 'SDE3-LT422', 'SDE3-LT423', 'COM4SR3132', 'COM4SR33', 'AS7-0107', 'LAW_SR4-2', 'SDE3-LT424', 'SDE3-LT421', 'HSS-02-02', 'HSS-03-01', 'HSS-03-02', 'HSS-04-01', 'HSS-04-02', 'HSS-04-03', 'HSS-04-05', 'HSS-04-07', 'YSTCM-SR7']\n"
          ]
        }
      ]
    },
    {
      "cell_type": "markdown",
      "source": [
        "hello friends\n",
        "- audience of presentation is the classmates not professor\n",
        "\n",
        "-"
      ],
      "metadata": {
        "id": "6IubzAhmVk0f"
      }
    }
  ]
}